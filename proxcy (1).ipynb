{
  "nbformat": 4,
  "nbformat_minor": 0,
  "metadata": {
    "colab": {
      "provenance": []
    },
    "kernelspec": {
      "name": "python3",
      "display_name": "Python 3"
    },
    "language_info": {
      "name": "python"
    }
  },
  "cells": [
    {
      "cell_type": "code",
      "source": [],
      "metadata": {
        "id": "9zn_N6u8g14b"
      },
      "execution_count": null,
      "outputs": []
    },
    {
      "cell_type": "code",
      "source": [
        "!python setup.py install"
      ],
      "metadata": {
        "colab": {
          "base_uri": "https://localhost:8080/"
        },
        "id": "ZsRo4T7wgkuM",
        "outputId": "93d0b53e-7228-4440-d34f-c551c9967c88"
      },
      "execution_count": null,
      "outputs": [
        {
          "output_type": "stream",
          "name": "stdout",
          "text": [
            "python3: can't open file '/content/setup.py': [Errno 2] No such file or directory\n"
          ]
        }
      ]
    },
    {
      "cell_type": "code",
      "source": [
        "!pip install \"phe[cli,examples]\""
      ],
      "metadata": {
        "colab": {
          "base_uri": "https://localhost:8080/"
        },
        "id": "SJ4w4A_ugYuc",
        "outputId": "1fd457da-b325-4006-d0dd-e125e8063fc2"
      },
      "execution_count": null,
      "outputs": [
        {
          "output_type": "stream",
          "name": "stdout",
          "text": [
            "Looking in indexes: https://pypi.org/simple, https://us-python.pkg.dev/colab-wheels/public/simple/\n",
            "Requirement already satisfied: phe[cli,examples] in /usr/local/lib/python3.9/dist-packages (1.5.0)\n",
            "Requirement already satisfied: click in /usr/local/lib/python3.9/dist-packages (from phe[cli,examples]) (8.1.3)\n",
            "Collecting sklearn\n",
            "  Downloading sklearn-0.0.post1.tar.gz (3.6 kB)\n",
            "  Preparing metadata (setup.py) ... \u001b[?25l\u001b[?25hdone\n",
            "Requirement already satisfied: numpy in /usr/local/lib/python3.9/dist-packages (from phe[cli,examples]) (1.22.4)\n",
            "Requirement already satisfied: scipy in /usr/local/lib/python3.9/dist-packages (from phe[cli,examples]) (1.10.1)\n",
            "Building wheels for collected packages: sklearn\n",
            "  Building wheel for sklearn (setup.py) ... \u001b[?25l\u001b[?25hdone\n",
            "  Created wheel for sklearn: filename=sklearn-0.0.post1-py3-none-any.whl size=2955 sha256=4a25d41635d50c9d5024be7672f46d9ab19bd4eb8ec8e962ae5d0c60be64e23a\n",
            "  Stored in directory: /root/.cache/pip/wheels/f8/e0/3d/9d0c2020c44a519b9f02ab4fa6d2a4a996c98d79ab2f569fa1\n",
            "Successfully built sklearn\n",
            "Installing collected packages: sklearn\n",
            "Successfully installed sklearn-0.0.post1\n"
          ]
        }
      ]
    },
    {
      "cell_type": "code",
      "source": [
        "!pip install \"phe[cli]>1.2\""
      ],
      "metadata": {
        "colab": {
          "base_uri": "https://localhost:8080/"
        },
        "id": "Ex7Fzpl3gFKN",
        "outputId": "736a40d4-0ced-4ff4-e169-057d1977fe9a"
      },
      "execution_count": null,
      "outputs": [
        {
          "output_type": "stream",
          "name": "stdout",
          "text": [
            "Looking in indexes: https://pypi.org/simple, https://us-python.pkg.dev/colab-wheels/public/simple/\n",
            "Requirement already satisfied: phe[cli]>1.2 in /usr/local/lib/python3.9/dist-packages (1.5.0)\n",
            "Requirement already satisfied: click in /usr/local/lib/python3.9/dist-packages (from phe[cli]>1.2) (8.1.3)\n"
          ]
        }
      ]
    },
    {
      "cell_type": "code",
      "source": [
        "!pip install phe"
      ],
      "metadata": {
        "colab": {
          "base_uri": "https://localhost:8080/"
        },
        "id": "q2cwbbZ8sHC1",
        "outputId": "0f5d673c-61c4-4aeb-8e40-c04e3099a07a"
      },
      "execution_count": 3,
      "outputs": [
        {
          "output_type": "stream",
          "name": "stdout",
          "text": [
            "Looking in indexes: https://pypi.org/simple, https://us-python.pkg.dev/colab-wheels/public/simple/\n",
            "Collecting phe\n",
            "  Downloading phe-1.5.0-py2.py3-none-any.whl (53 kB)\n",
            "\u001b[2K     \u001b[90m━━━━━━━━━━━━━━━━━━━━━━━━━━━━━━━━━━━━━━━━\u001b[0m \u001b[32m53.7/53.7 kB\u001b[0m \u001b[31m6.1 MB/s\u001b[0m eta \u001b[36m0:00:00\u001b[0m\n",
            "\u001b[?25hInstalling collected packages: phe\n",
            "Successfully installed phe-1.5.0\n"
          ]
        }
      ]
    },
    {
      "cell_type": "code",
      "source": [
        "import base64\n",
        "from cryptography.hazmat.backends import default_backend\n",
        "from cryptography.hazmat.primitives.asymmetric import rsa\n",
        "from cryptography.hazmat.primitives import serialization\n",
        "from cryptography.hazmat.primitives import hashes\n",
        "from cryptography.hazmat.primitives.asymmetric import padding\n",
        "\n",
        "\n",
        "def utf8(s: bytes):\n",
        "    return str(s, 'utf-8')\n",
        "\n",
        "\n",
        "private_key = rsa.generate_private_key(\n",
        "    public_exponent=65537,\n",
        "    key_size=4096,\n",
        "    backend=default_backend()\n",
        ")\n",
        "public_key = private_key.public_key()\n",
        "\n",
        "\n",
        "private_pem = private_key.private_bytes(\n",
        "    encoding=serialization.Encoding.PEM,\n",
        "    format=serialization.PrivateFormat.PKCS8,\n",
        "    encryption_algorithm=serialization.NoEncryption()\n",
        ")\n",
        "\n",
        "with open('private_key.pem', 'wb') as f:\n",
        "    f.write(private_pem)\n",
        "\n",
        "public_pem = public_key.public_bytes(\n",
        "    encoding=serialization.Encoding.PEM,\n",
        "    format=serialization.PublicFormat.SubjectPublicKeyInfo\n",
        ")\n",
        "with open('public_key.pem', 'wb') as f:\n",
        "    f.write(public_pem)\n",
        "\n",
        "\n",
        "with open(\"private_key.pem\", \"rb\") as key_file:\n",
        "    private_key = serialization.load_pem_private_key(\n",
        "        key_file.read(),\n",
        "        password=None,\n",
        "        backend=default_backend()\n",
        "    )\n",
        "\n",
        "with open(\"public_key.pem\", \"rb\") as key_file:\n",
        "    public_key = serialization.load_pem_public_key(\n",
        "        key_file.read(),\n",
        "        backend=default_backend()\n",
        "    )\n",
        "\n",
        "\n",
        "plaintext = b'this is the correct plaintext!'\n",
        "print(f'plaintext: \\033[1;33m{utf8(plaintext)}\\033[0m')\n",
        "encrypted = base64.b64encode(public_key.encrypt(\n",
        "    plaintext,\n",
        "    padding.OAEP(\n",
        "        mgf=padding.MGF1(algorithm=hashes.SHA256()),\n",
        "        algorithm=hashes.SHA256(),\n",
        "        label=None\n",
        "    )\n",
        "))\n",
        "print(f'encrypted: \\033[1;32m{utf8(encrypted)}\\033[0m')\n",
        "\n",
        "\n",
        "decrypted = private_key.decrypt(\n",
        "    base64.b64decode(encrypted),\n",
        "    padding.OAEP(\n",
        "        mgf=padding.MGF1(algorithm=hashes.SHA256()),\n",
        "        algorithm=hashes.SHA256(),\n",
        "        label=None\n",
        "    )\n",
        ")\n",
        "print(f'decrypted: \\033[1;31m{utf8(decrypted)}\\033[0m')"
      ],
      "metadata": {
        "colab": {
          "base_uri": "https://localhost:8080/"
        },
        "id": "nBrhlAlV8E2s",
        "outputId": "1de9d59e-4642-46b7-f7f8-7ca8144dec3d"
      },
      "execution_count": 23,
      "outputs": [
        {
          "output_type": "stream",
          "name": "stdout",
          "text": [
            "plaintext: \u001b[1;33mthis is the correct plaintext!\u001b[0m\n",
            "encrypted: \u001b[1;32macXWdGMmRBXF7YdaEBBg7KUHw8kjxZ0djLTDRpVOVcYF1kpb93QemAz2eyRAlarQTRu+k5wihdQYUNIV4pRYNSRPQ8fYNWBbqLwxhOmC38UMYhxlreiqGaKkw95uHdhL+VbnNb2rJMlVO6WuOCBMhkNu4leXHBAvR1eftENTdc3tCqAMEbzEnQHLBGkGPgqNVRUDhwQOu9QIoJKjEDP6wDoNEvGzKAWK27AzqpABGDI5KdJnNF7yWwYWLqNOf1qBW8kEROktoTgqrghGyZmMNN9U/ygl9ecWvTLmzqvjpYcFLnKDoXvMmzviq3WZdVkeg9IB3mSAi6xrwjlJcXPQ4koQvYJoZHwKwb1CcyS1H88k3wyCZZY+swiAh4zyAr6GJh//YHh7AJisvIbGjH1Mmsbuu9+88B0t0Sas72MTd1yCtI6YU7GIkRe26Juhf5RbiihUAlkLvPy5msX5ZlIXyEd7+hM25pGGKgNhYBC8v/bK4V1ON2XQyZBsF1frkFaKQGL6NKy4VlcyjUMkOz0ipPLIPbzh+/AhdfruTmQD5vae5mkiWbSf1iBfO3UTimcVWCPoXM8XfGYN71cBTslsSFkljITkzZ2tHVcSeEeN+/mCdqDIasQCkLTxp/bmYjU4xEkP1j04kB4YT30ROLwvWfYqjSdyqfcdWNydFTRWLAE=\u001b[0m\n",
            "decrypted: \u001b[1;31mthis is the correct plaintext!\u001b[0m\n"
          ]
        }
      ]
    }
  ]
}